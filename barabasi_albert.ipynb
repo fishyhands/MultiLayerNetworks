{
 "cells": [
  {
   "cell_type": "code",
   "execution_count": 25,
   "metadata": {},
   "outputs": [],
   "source": [
    "# Import dependencies and packages\n",
    "import matplotlib as mpl\n",
    "import matplotlib.pyplot as plt\n",
    "import networkx as nx  \n",
    "import ndlib.models.CompositeModel as gc\n",
    "import ndlib.models.compartments as cpm\n",
    "import ndlib.models.compartments.ConditionalComposition as cif\n",
    "import powerlaw as pl\n",
    "import collections\n",
    "\n",
    "mpl.use('TkAgg')\n",
    "\n",
    "## Create Graph\n",
    "nodes = 10000\n",
    "edges = 2\n",
    "\n",
    "G = nx.barabasi_albert_graph(nodes,edges)\n",
    "deg = dict(nx.degree(G))\n",
    "deg = list(deg.values())\n",
    "while any(degree < 2 for node, degree in G.degree()): # minimum nodal degree of 2\n",
    "    G = nx.barabasi_albert_graph(nodes,edges)\n",
    "\n",
    "\n"
   ]
  },
  {
   "cell_type": "code",
   "execution_count": 28,
   "metadata": {},
   "outputs": [],
   "source": [
    "degree_sequence = sorted([d for n, d in G.degree()], reverse=True)  # degree sequence\n",
    "# print \"Degree sequence\", degree_sequence\n",
    "degreeCount = collections.Counter(degree_sequence)\n",
    "deg, cnt = zip(*degreeCount.items())\n",
    "\n",
    "fig, ax = plt.subplots()\n",
    "plt.bar(deg, cnt, width=0.80, color='b')\n",
    "\n",
    "plt.title(\"Degree Histogram\")\n",
    "plt.ylabel(\"Count\")\n",
    "plt.xlabel(\"Degree\")\n",
    "ax.set_xticks([d + 0.4 for d in deg])\n",
    "ax.set_xticklabels(deg)\n",
    "\n",
    "plt.show()"
   ]
  }
 ],
 "metadata": {
  "kernelspec": {
   "display_name": "Python 3",
   "language": "python",
   "name": "python3"
  },
  "language_info": {
   "codemirror_mode": {
    "name": "ipython",
    "version": 3
   },
   "file_extension": ".py",
   "mimetype": "text/x-python",
   "name": "python",
   "nbconvert_exporter": "python",
   "pygments_lexer": "ipython3",
   "version": "3.12.1"
  }
 },
 "nbformat": 4,
 "nbformat_minor": 2
}
